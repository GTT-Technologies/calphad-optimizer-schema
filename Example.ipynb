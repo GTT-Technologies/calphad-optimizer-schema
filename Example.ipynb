{
 "cells": [
  {
   "cell_type": "code",
   "execution_count": 4,
   "metadata": {},
   "outputs": [],
   "source": [
    "import json\n",
    "# for assembling the schema\n",
    "from referencing import Registry, Resource\n",
    "\n",
    "# for validating the schema. No particular reason to use Draft7\n",
    "from jsonschema import Draft7Validator\n",
    "\n",
    "# for reading the subschema files\n",
    "from pathlib import Path\n",
    "import os\n"
   ]
  },
  {
   "cell_type": "markdown",
   "metadata": {},
   "source": [
    "### Opening file, loading the json\n",
    "\n",
    "The validation happens not on the file-level, but rather after being able to\n",
    "read the file. Any malformed JSON will not be processed and needs to be fixed."
   ]
  },
  {
   "cell_type": "code",
   "execution_count": 5,
   "metadata": {},
   "outputs": [
    {
     "name": "stdout",
     "output_type": "stream",
     "text": [
      "File read successfully!\n"
     ]
    }
   ],
   "source": [
    "try:\n",
    "    with open(\"Cr-Ni_Hreac.opt\", \"r\") as f:\n",
    "        json_data = json.load(f)\n",
    "    print(\"File read successfully!\")\n",
    "except json.JSONDecodeError as e:\n",
    "    print(f\"Error parsing JSON\")\n",
    "    print(e)\n"
   ]
  },
  {
   "cell_type": "markdown",
   "metadata": {},
   "source": [
    "### Assembling the schema\n",
    "\n",
    "The schema is divided into a main schema `co-schema.json` that describes the\n",
    "full structure, and separate sub schemata for each recipe type.\n",
    "\n",
    "These are stored in the `recipes` directory, and need to be presented to the\n",
    "validating instance of jsonschema, using a registry."
   ]
  },
  {
   "cell_type": "code",
   "execution_count": 6,
   "metadata": {},
   "outputs": [],
   "source": [
    "# main schema\n",
    "with open(\"schema/co-schema.json\", \"r\") as main_file:\n",
    "    main_schema = json.load(main_file)\n",
    "\n",
    "# this is the directory where the subschemas are stored (in this repo)\n",
    "SCHEMAS = Path(os.getcwd()) / Path(\"./schema\")\n",
    "\n",
    "# helper function that adds the ability to retrieve the subschemas from the filesystem\n",
    "def retrieve_from_filesystem(uri: str):\n",
    "    path = SCHEMAS / Path(uri)\n",
    "    contents = json.loads(path.read_text())\n",
    "    return Resource.from_contents(contents)\n",
    "\n",
    "registry = Registry(retrieve=retrieve_from_filesystem)\n",
    "\n",
    "# Create a validator class instance, with the registry\n",
    "opt_file_validator = Draft7Validator(schema=main_schema, registry=registry)\n"
   ]
  },
  {
   "cell_type": "markdown",
   "metadata": {},
   "source": [
    "### Perform the validation\n",
    "\n",
    "Using the created validator, we can validate the opt file."
   ]
  },
  {
   "cell_type": "code",
   "execution_count": 7,
   "metadata": {},
   "outputs": [
    {
     "name": "stdout",
     "output_type": "stream",
     "text": [
      "Instance is valid!\n"
     ]
    }
   ],
   "source": [
    "try:\n",
    "    opt_file_validator.validate(json_data)\n",
    "    print(\"Instance is valid!\")\n",
    "except Exception as e:\n",
    "    print(e)"
   ]
  }
 ],
 "metadata": {
  "kernelspec": {
   "display_name": "co311",
   "language": "python",
   "name": "python3"
  },
  "language_info": {
   "codemirror_mode": {
    "name": "ipython",
    "version": 3
   },
   "file_extension": ".py",
   "mimetype": "text/x-python",
   "name": "python",
   "nbconvert_exporter": "python",
   "pygments_lexer": "ipython3",
   "version": "3.11.7"
  }
 },
 "nbformat": 4,
 "nbformat_minor": 2
}
